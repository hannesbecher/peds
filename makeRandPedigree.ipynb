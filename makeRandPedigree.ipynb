{
 "cells": [
  {
   "cell_type": "markdown",
   "id": "7b02d808-a4ab-4b45-b1b7-53d45e42a9ed",
   "metadata": {},
   "source": [
    "# Playing with pedigrees"
   ]
  },
  {
   "cell_type": "markdown",
   "id": "2b395314-7fd8-4761-9e07-4776c0b29f4f",
   "metadata": {},
   "source": [
    "\n"
   ]
  },
  {
   "cell_type": "code",
   "execution_count": 11,
   "id": "e298892b-0f5e-410e-8cc3-cfc3a5d9b8be",
   "metadata": {},
   "outputs": [],
   "source": [
    "import msprime\n",
    "import tskit\n",
    "import numpy as np"
   ]
  },
  {
   "cell_type": "code",
   "execution_count": 4,
   "id": "0073a203-4a6d-4d92-9afc-cf93901d066c",
   "metadata": {},
   "outputs": [],
   "source": [
    "nGens = 2\n",
    "N = 500\n",
    "samp = 1"
   ]
  },
  {
   "cell_type": "code",
   "execution_count": 6,
   "id": "591928d3-3674-4255-b9b0-1255abd2e1e9",
   "metadata": {},
   "outputs": [
    {
     "data": {
      "text/plain": [
       "array([0, 1])"
      ]
     },
     "execution_count": 6,
     "metadata": {},
     "output_type": "execute_result"
    }
   ],
   "source": [
    "np.array(range(0,2))"
   ]
  },
  {
   "cell_type": "code",
   "execution_count": 22,
   "id": "b0dfc449-1af0-4925-9695-56348f4d8922",
   "metadata": {},
   "outputs": [],
   "source": [
    "def genIndRange(gen, N):\n",
    "    \"\"\"\n",
    "    Generate a range of possible parents depending on N and generation.\n",
    "    \"\"\"\n",
    "    return np.array(range(gen*N, (gen+1)*N))"
   ]
  },
  {
   "cell_type": "code",
   "execution_count": 104,
   "id": "7cd56ede-a58a-449e-a861-add365e84f6c",
   "metadata": {},
   "outputs": [],
   "source": [
    "def parentIndOffset(N, nSamp):\n",
    "    \"\"\"\n",
    "    Generate a range of parent id offsets (sampling with replacement\n",
    "    \"\"\"\n",
    "    # random nums\n",
    "    nums = np.random.choice(np.arange(N), nSamp, replace=True)\n",
    "    print(nums)\n",
    "    ss = set(nums)\n",
    "    ids = np.zeros(len(nums), dtype=np.int32)\n",
    "    c = 1\n",
    "    for i in ss:\n",
    "        \n",
    "        ids[nums == i] = c\n",
    "        c +=1\n",
    "    return ids"
   ]
  },
  {
   "cell_type": "code",
   "execution_count": 107,
   "id": "be822f4c-d4b2-4bb6-a2b4-8b58d11b1725",
   "metadata": {},
   "outputs": [
    {
     "name": "stdout",
     "output_type": "stream",
     "text": [
      "[461 353  45 386 118]\n"
     ]
    },
    {
     "data": {
      "text/plain": [
       "array([4, 1, 3, 2, 5], dtype=int32)"
      ]
     },
     "execution_count": 107,
     "metadata": {},
     "output_type": "execute_result"
    }
   ],
   "source": [
    "parentIndOffset(N=500, nSamp=5)"
   ]
  },
  {
   "cell_type": "code",
   "execution_count": 110,
   "id": "5124ccc1-73b6-49c0-b16b-fcb11f95f592",
   "metadata": {},
   "outputs": [
    {
     "data": {
      "text/plain": [
       "array([], dtype=int32)"
      ]
     },
     "execution_count": 110,
     "metadata": {},
     "output_type": "execute_result"
    }
   ],
   "source": [
    "np.array([],dtype=np.int32)"
   ]
  },
  {
   "cell_type": "code",
   "execution_count": 111,
   "id": "41afc30e-3a25-4480-b2a7-54a8a943fcfc",
   "metadata": {},
   "outputs": [],
   "source": [
    "def makePed(numG,N, nInds):\n",
    "    \"\"\"\n",
    "    Make a pedigree by recurrently smapling parents from past generations\n",
    "    \"\"\"\n",
    "    idCounter=0\n",
    "    currrentT=0\n",
    "    ids=np.array([],dtype=np.int32)\n",
    "    t=np.array([],dtype=np.int32)\n",
    "    mums=np.array([],dtype=np.int32)\n",
    "    dads=np.array([],dtype=np.int32)\n",
    "    for g in range(numG): # the generation loop\n",
    "\n",
    "        if g > 0: # dont run in first gen\n",
    "            nPrev = len(ids[t==(g-1)]) # ind in previous generation\n",
    "            pp = parentIndOffset(N, nPrev) # parents of those inds\n",
    "            \n",
    "            \n",
    "            \n",
    "        else: #only in 1st gen\n",
    "            \n",
    "            \n",
    "            for i in range(nInds):\n",
    "                #sample parents...\n",
    "                \n",
    "                ids.append(idCounter)\n",
    "                idCounter += 1\n",
    "                t.append(currentT)\n",
    "        # each generation\n",
    "        currentT += 1\n",
    "            \n",
    "            \n",
    "    \n",
    "    "
   ]
  },
  {
   "cell_type": "code",
   "execution_count": 20,
   "id": "fcc167e3-2fc7-4dea-90f4-4cf32450a42d",
   "metadata": {},
   "outputs": [],
   "source": [
    "ped = msprime.PedigreeBuilder(individuals_metadata_schema=tskit.MetadataSchema.permissive_json())"
   ]
  },
  {
   "cell_type": "code",
   "execution_count": 21,
   "id": "9e1364be-3a4c-4f1e-b933-1d5d591403ff",
   "metadata": {},
   "outputs": [
    {
     "data": {
      "text/plain": [
       "<msprime.pedigrees.PedigreeBuilder at 0x7f61931f1b90>"
      ]
     },
     "execution_count": 21,
     "metadata": {},
     "output_type": "execute_result"
    }
   ],
   "source": [
    "ped"
   ]
  },
  {
   "cell_type": "code",
   "execution_count": 18,
   "id": "49c54d4f-14cb-4cd7-8fe9-e7b98099baa9",
   "metadata": {},
   "outputs": [
    {
     "data": {
      "text/plain": [
       "\u001b[0;31mSignature:\u001b[0m\n",
       "\u001b[0mped\u001b[0m\u001b[0;34m.\u001b[0m\u001b[0madd_individual\u001b[0m\u001b[0;34m(\u001b[0m\u001b[0;34m\u001b[0m\n",
       "\u001b[0;34m\u001b[0m    \u001b[0;34m*\u001b[0m\u001b[0;34m,\u001b[0m\u001b[0;34m\u001b[0m\n",
       "\u001b[0;34m\u001b[0m    \u001b[0mtime\u001b[0m\u001b[0;34m,\u001b[0m\u001b[0;34m\u001b[0m\n",
       "\u001b[0;34m\u001b[0m    \u001b[0mis_sample\u001b[0m\u001b[0;34m=\u001b[0m\u001b[0;32mNone\u001b[0m\u001b[0;34m,\u001b[0m\u001b[0;34m\u001b[0m\n",
       "\u001b[0;34m\u001b[0m    \u001b[0mparents\u001b[0m\u001b[0;34m=\u001b[0m\u001b[0;32mNone\u001b[0m\u001b[0;34m,\u001b[0m\u001b[0;34m\u001b[0m\n",
       "\u001b[0;34m\u001b[0m    \u001b[0mpopulation\u001b[0m\u001b[0;34m=\u001b[0m\u001b[0;32mNone\u001b[0m\u001b[0;34m,\u001b[0m\u001b[0;34m\u001b[0m\n",
       "\u001b[0;34m\u001b[0m    \u001b[0mmetadata\u001b[0m\u001b[0;34m=\u001b[0m\u001b[0;32mNone\u001b[0m\u001b[0;34m,\u001b[0m\u001b[0;34m\u001b[0m\n",
       "\u001b[0;34m\u001b[0m\u001b[0;34m)\u001b[0m \u001b[0;34m->\u001b[0m \u001b[0;34m'int'\u001b[0m\u001b[0;34m\u001b[0m\u001b[0;34m\u001b[0m\u001b[0m\n",
       "\u001b[0;31mDocstring:\u001b[0m\n",
       "Adds an individual with the specified properties, returning its ID.\n",
       "\n",
       ":param float time: The time for this individual measured in generations ago.\n",
       ":param bool is_sample: If True, the new individual is marked as a sample;\n",
       "    if False, the individual is not marked as a sample. If None (the default)\n",
       "    the individual is marked as a sample if its ``time`` is zero.\n",
       "    Parent IDs are not checked, and may refer to individuals not yet\n",
       "    added to the tables.\n",
       ":param list(int) parents: The integer IDs of the specified individual's\n",
       "    parents. Exactly two parents must be specified. If None (the default),\n",
       "    the individual is treated as a founder by setting its parents to\n",
       "    ``[-1, -1]``.\n",
       ":param str|int population: The population to associated with this\n",
       "    individual. The value can be a string or integer, following the\n",
       "    usual\n",
       "    :ref:`population identifier<sec_demography_populations_identifiers>`\n",
       "    rules. If None (the default), a population ID of 0 will be assigned\n",
       "    if the :class:`.Demography` associated with this PedigreeBuilder has a\n",
       "    single population (the default). If the demography has more than\n",
       "    one population, then a population must be explicitly specified for\n",
       "    each individual.\n",
       ":param dict|bytes metadata: Any metadata to associate with the\n",
       "    new individual. See the :ref:`sec_pedigrees_metadata` section\n",
       "    for more information.\n",
       ":return: The ID of the newly added individual.\n",
       ":rtype: int\n",
       "\u001b[0;31mFile:\u001b[0m      ~/miniconda3/envs/msp/lib/python3.11/site-packages/msprime/pedigrees.py\n",
       "\u001b[0;31mType:\u001b[0m      method"
      ]
     },
     "metadata": {},
     "output_type": "display_data"
    }
   ],
   "source": [
    "?ped.add_individual"
   ]
  },
  {
   "cell_type": "code",
   "execution_count": null,
   "id": "1e24b46b-1f02-4e28-9f80-10eab3720567",
   "metadata": {},
   "outputs": [],
   "source": []
  }
 ],
 "metadata": {
  "kernelspec": {
   "display_name": "Python [conda env:msp]",
   "language": "python",
   "name": "conda-env-msp-py"
  },
  "language_info": {
   "codemirror_mode": {
    "name": "ipython",
    "version": 3
   },
   "file_extension": ".py",
   "mimetype": "text/x-python",
   "name": "python",
   "nbconvert_exporter": "python",
   "pygments_lexer": "ipython3",
   "version": "3.11.4"
  }
 },
 "nbformat": 4,
 "nbformat_minor": 5
}
