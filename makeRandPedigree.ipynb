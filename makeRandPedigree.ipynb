{
 "cells": [
  {
   "cell_type": "markdown",
   "id": "7b02d808-a4ab-4b45-b1b7-53d45e42a9ed",
   "metadata": {},
   "source": [
    "# Playing with pedigrees"
   ]
  },
  {
   "cell_type": "markdown",
   "id": "2b395314-7fd8-4761-9e07-4776c0b29f4f",
   "metadata": {},
   "source": [
    "\n"
   ]
  },
  {
   "cell_type": "code",
   "execution_count": 203,
   "id": "e298892b-0f5e-410e-8cc3-cfc3a5d9b8be",
   "metadata": {},
   "outputs": [],
   "source": [
    "import msprime\n",
    "import tskit\n",
    "import numpy as np\n",
    "import io"
   ]
  },
  {
   "cell_type": "code",
   "execution_count": 113,
   "id": "0073a203-4a6d-4d92-9afc-cf93901d066c",
   "metadata": {},
   "outputs": [],
   "source": [
    "nGens = 2\n",
    "N = 500\n",
    "samp = 1"
   ]
  },
  {
   "cell_type": "code",
   "execution_count": 114,
   "id": "591928d3-3674-4255-b9b0-1255abd2e1e9",
   "metadata": {},
   "outputs": [
    {
     "data": {
      "text/plain": [
       "array([0, 1])"
      ]
     },
     "execution_count": 114,
     "metadata": {},
     "output_type": "execute_result"
    }
   ],
   "source": [
    "np.array(range(0,2))"
   ]
  },
  {
   "cell_type": "code",
   "execution_count": 115,
   "id": "b0dfc449-1af0-4925-9695-56348f4d8922",
   "metadata": {},
   "outputs": [],
   "source": [
    "def genIndRange(gen, N):\n",
    "    \"\"\"\n",
    "    Generate a range of possible parents depending on N and generation.\n",
    "    \"\"\"\n",
    "    return np.array(range(gen*N, (gen+1)*N))"
   ]
  },
  {
   "cell_type": "code",
   "execution_count": 121,
   "id": "7cd56ede-a58a-449e-a861-add365e84f6c",
   "metadata": {},
   "outputs": [],
   "source": [
    "def parentIndOffset(N, nSamp):\n",
    "    \"\"\"\n",
    "    Generate a range of parent id offsets (sampling with replacement\n",
    "    \"\"\"\n",
    "    # random nums\n",
    "    nums = np.random.choice(np.arange(N), nSamp, replace=True)\n",
    "    #print(nums)\n",
    "    ss = set(nums)\n",
    "    ids = np.zeros(len(nums), dtype=np.int32)\n",
    "    c = 1\n",
    "    for i in ss:\n",
    "        \n",
    "        ids[nums == i] = c\n",
    "        c +=1\n",
    "    return ids"
   ]
  },
  {
   "cell_type": "code",
   "execution_count": 142,
   "id": "be822f4c-d4b2-4bb6-a2b4-8b58d11b1725",
   "metadata": {},
   "outputs": [],
   "source": [
    "a = parentIndOffset(N=7, nSamp=5)"
   ]
  },
  {
   "cell_type": "code",
   "execution_count": 144,
   "id": "de1d7b51-aa6f-41e6-b9af-8b8a33d2394f",
   "metadata": {},
   "outputs": [
    {
     "data": {
      "text/plain": [
       "array([3, 4, 2, 1, 1], dtype=int32)"
      ]
     },
     "execution_count": 144,
     "metadata": {},
     "output_type": "execute_result"
    }
   ],
   "source": [
    "a.copy()"
   ]
  },
  {
   "cell_type": "code",
   "execution_count": 257,
   "id": "41afc30e-3a25-4480-b2a7-54a8a943fcfc",
   "metadata": {},
   "outputs": [],
   "source": [
    "def makePed(numG,N, nInds):\n",
    "    \"\"\"\n",
    "    Make a pedigree by recurrently smapling parents from past generations\n",
    "    \"\"\"\n",
    "    idCounter=0\n",
    "    currentT=0\n",
    "    ids=[]\n",
    "    t=[]\n",
    "    mums=[]\n",
    "    dads=[]\n",
    "    for g in range(numG): # the generation loop\n",
    "\n",
    "        if g > 0: # any other than 1st gen\n",
    "            #print(f\"Gen {g}\")\n",
    "            currInds = np.unique(pp)\n",
    "            pp = parentIndOffset(N, len(currInds)*2) + max(currInds)\n",
    "            \n",
    "            for i in range(len(currInds)):\n",
    "                ids.append(currInds[i])\n",
    "                t.append(currentT)\n",
    "                if g < numG - 1:\n",
    "                    mums.append(pp[i*2])\n",
    "                    dads.append(pp[i*2-1])\n",
    "                else:\n",
    "                    mums.append(\".\")\n",
    "                    dads.append(\".\")\n",
    "            \n",
    "        else: #only in 1st gen\n",
    "            #print(\"1st gen\")\n",
    "            pp = parentIndOffset(N, nInds*2) + nInds - 1 # parents of those inds\n",
    "            for i in range(nInds):\n",
    "                ids.append(i)\n",
    "                mums.append(pp[i*2])\n",
    "                dads.append(pp[i*2-1])\n",
    "                t.append(currentT)\n",
    "                \n",
    "        # each generation\n",
    "        currentT += 1\n",
    "    \n",
    "    aa = \"# id parent0 parent1 time\\n\" \n",
    "    for i,j,k,l in zip(ids, mums, dads, t):\n",
    "        aa += f\"{i} {j} {k} {l}\\n\"\n",
    "    return aa\n",
    "    \n",
    "    "
   ]
  },
  {
   "cell_type": "code",
   "execution_count": 304,
   "id": "9453f8f0-de5d-4d93-aeac-7c1d42ddac23",
   "metadata": {
    "tags": []
   },
   "outputs": [],
   "source": [
    "aa=makePed(200, 100, 2)\n",
    "#print(aa)"
   ]
  },
  {
   "cell_type": "code",
   "execution_count": 305,
   "id": "d7938dcd-ae9a-4119-bcf2-d3d5bd5dbad3",
   "metadata": {},
   "outputs": [],
   "source": [
    "tc.sort()"
   ]
  },
  {
   "cell_type": "code",
   "execution_count": 306,
   "id": "027d271d-a04f-415e-816d-833bd5e1c9cc",
   "metadata": {},
   "outputs": [],
   "source": [
    "tc = msprime.parse_pedigree(io.StringIO(aa), sequence_length=100)\n"
   ]
  },
  {
   "cell_type": "code",
   "execution_count": 316,
   "id": "5a1c7351-1027-433e-8b00-937e006488db",
   "metadata": {},
   "outputs": [],
   "source": [
    "ts = msprime.sim_ancestry(\n",
    "    initial_state=tc,\n",
    "    model=\"fixed_pedigree\"\n",
    ")"
   ]
  },
  {
   "cell_type": "code",
   "execution_count": 317,
   "id": "8b3e7c88-0ba2-4622-814d-139fe01071e6",
   "metadata": {},
   "outputs": [
    {
     "data": {
      "text/html": [
       "\n",
       "            <div>\n",
       "              <style>\n",
       "                .tskit-table thead tr th {text-align: left;padding: 0.5em 0.5em;}\n",
       "                .tskit-table tbody tr td {padding: 0.5em 0.5em;}\n",
       "                .tskit-table tbody tr td:first-of-type {text-align: left;}\n",
       "                .tskit-details-label {vertical-align: top; padding-right:5px;}\n",
       "                .tskit-table-set {display: inline-flex;flex-wrap: wrap;margin: -12px 0 0 -12px;width: calc(100% + 12px);}\n",
       "                .tskit-table-set-table {margin: 12px 0 0 12px;}\n",
       "                details {display: inline-block;}\n",
       "                summary {cursor: pointer; outline: 0; display: list-item;}\n",
       "              </style>\n",
       "              <div class=\"tskit-table-set\">\n",
       "                <div class=\"tskit-table-set-table\">\n",
       "                  <table class=\"tskit-table\">\n",
       "                    <thead>\n",
       "                      <tr>\n",
       "                        <th style=\"padding:0;line-height:21px;\">\n",
       "                          <img style=\"height: 32px;display: inline-block;padding: 3px 5px 3px 0;\" src=\"https://raw.githubusercontent.com/tskit-dev/administrative/main/tskit_logo.svg\"/>\n",
       "                          <a target=\"_blank\" href=\"https://tskit.dev/tskit/docs/latest/python-api.html#the-treesequence-class\"> Tree Sequence </a>\n",
       "                        </th>\n",
       "                      </tr>\n",
       "                    </thead>\n",
       "                    <tbody>\n",
       "                      <tr><td>Trees</td><td>1</td></tr>\n",
       "                      <tr><td>Sequence Length</td><td>100.0</td></tr>\n",
       "                      <tr><td>Time Units</td><td>generations</td></tr>\n",
       "                      <tr><td>Sample Nodes</td><td>4</td></tr>\n",
       "                      <tr><td>Total Size</td><td>1.6 MiB</td></tr>\n",
       "                      <tr>\n",
       "                        <td>Metadata</td><td style=\"text-align: left;\">No Metadata</td></tr>\n",
       "                    </tbody>\n",
       "                  </table>\n",
       "                </div>\n",
       "                <div class=\"tskit-table-set-table\">\n",
       "                  <table class=\"tskit-table\">\n",
       "                    <thead>\n",
       "                      <tr>\n",
       "                        <th style=\"line-height:21px;\">Table</th>\n",
       "                        <th>Rows</th>\n",
       "                        <th>Size</th>\n",
       "                        <th>Has Metadata</th>\n",
       "                      </tr>\n",
       "                    </thead>\n",
       "                    <tbody>\n",
       "                    \n",
       "                  <tr>\n",
       "                    <td>Edges</td>\n",
       "                      <td>5</td>\n",
       "                      <td>168 Bytes</td>\n",
       "                      <td style=\"text-align: center;\">\n",
       "                        \n",
       "                      </td>\n",
       "                    </tr>\n",
       "                \n",
       "                  <tr>\n",
       "                    <td>Individuals</td>\n",
       "                      <td>15583</td>\n",
       "                      <td>826.2 KiB</td>\n",
       "                      <td style=\"text-align: center;\">\n",
       "                        ✅\n",
       "                      </td>\n",
       "                    </tr>\n",
       "                \n",
       "                  <tr>\n",
       "                    <td>Migrations</td>\n",
       "                      <td>0</td>\n",
       "                      <td>8 Bytes</td>\n",
       "                      <td style=\"text-align: center;\">\n",
       "                        \n",
       "                      </td>\n",
       "                    </tr>\n",
       "                \n",
       "                  <tr>\n",
       "                    <td>Mutations</td>\n",
       "                      <td>0</td>\n",
       "                      <td>16 Bytes</td>\n",
       "                      <td style=\"text-align: center;\">\n",
       "                        \n",
       "                      </td>\n",
       "                    </tr>\n",
       "                \n",
       "                  <tr>\n",
       "                    <td>Nodes</td>\n",
       "                      <td>31166</td>\n",
       "                      <td>852.2 KiB</td>\n",
       "                      <td style=\"text-align: center;\">\n",
       "                        \n",
       "                      </td>\n",
       "                    </tr>\n",
       "                \n",
       "                  <tr>\n",
       "                    <td>Populations</td>\n",
       "                      <td>1</td>\n",
       "                      <td>224 Bytes</td>\n",
       "                      <td style=\"text-align: center;\">\n",
       "                        ✅\n",
       "                      </td>\n",
       "                    </tr>\n",
       "                \n",
       "                  <tr>\n",
       "                    <td>Provenances</td>\n",
       "                      <td>1</td>\n",
       "                      <td>1008 Bytes</td>\n",
       "                      <td style=\"text-align: center;\">\n",
       "                        \n",
       "                      </td>\n",
       "                    </tr>\n",
       "                \n",
       "                  <tr>\n",
       "                    <td>Sites</td>\n",
       "                      <td>0</td>\n",
       "                      <td>16 Bytes</td>\n",
       "                      <td style=\"text-align: center;\">\n",
       "                        \n",
       "                      </td>\n",
       "                    </tr>\n",
       "                \n",
       "                    </tbody>\n",
       "                  </table>\n",
       "                </div>\n",
       "              </div>\n",
       "            </div>\n",
       "            "
      ],
      "text/plain": [
       "<tskit.trees.TreeSequence at 0x7f618f1c3210>"
      ]
     },
     "execution_count": 317,
     "metadata": {},
     "output_type": "execute_result"
    }
   ],
   "source": [
    "ts"
   ]
  },
  {
   "cell_type": "code",
   "execution_count": 318,
   "id": "e731cbe8-cc5e-4681-b0e6-d86910c0c15f",
   "metadata": {},
   "outputs": [
    {
     "data": {
      "image/svg+xml": [
       "<svg baseProfile=\"full\" height=\"200\" version=\"1.1\" width=\"200\" xmlns=\"http://www.w3.org/2000/svg\" xmlns:ev=\"http://www.w3.org/2001/xml-events\" xmlns:xlink=\"http://www.w3.org/1999/xlink\"><defs><style type=\"text/css\"><![CDATA[.background path {fill: #808080; fill-opacity: 0}.background path:nth-child(odd) {fill-opacity: .1}.axes {font-size: 14px}.x-axis .tick .lab {font-weight: bold; dominant-baseline: hanging}.axes, .tree {font-size: 14px; text-anchor: middle}.axes line, .edge {stroke: black; fill: none}.axes .ax-skip {stroke-dasharray: 4}.y-axis .grid {stroke: #FAFAFA}.node > .sym {fill: black; stroke: none}.site > .sym {stroke: black}.mut text {fill: red; font-style: italic}.mut.extra text {fill: hotpink}.mut line {fill: none; stroke: none}.mut .sym {fill: none; stroke: red}.mut.extra .sym {stroke: hotpink}.node .mut .sym {stroke-width: 1.5px}.tree text, .tree-sequence text {dominant-baseline: central}.plotbox .lab.lft {text-anchor: end}.plotbox .lab.rgt {text-anchor: start}]]></style></defs><g class=\"tree-sequence\"><g class=\"background\"><path d=\"M56.8,0 l123.2,0 l0,138.2 l0,25 l0,5 l-123.2,0 l0,-5 l0,-25 l0,-138.2z\" /></g><g class=\"axes\"><g class=\"x-axis\"><g class=\"title\" transform=\"translate(118.4 200)\"><text class=\"lab\" text-anchor=\"middle\" transform=\"translate(0 -11)\">Genome position</text></g><line class=\"ax-line\" x1=\"56.8\" x2=\"180\" y1=\"163.2\" y2=\"163.2\" /><g class=\"ticks\"><g class=\"tick\" transform=\"translate(56.8 163.2)\"><line x1=\"0\" x2=\"0\" y1=\"0\" y2=\"5\" /><g transform=\"translate(0 6)\"><text class=\"lab\">0</text></g></g><g class=\"tick\" transform=\"translate(180 163.2)\"><line x1=\"0\" x2=\"0\" y1=\"0\" y2=\"5\" /><g transform=\"translate(0 6)\"><text class=\"lab\">100</text></g></g></g></g><g class=\"y-axis\"><g class=\"title\" transform=\"translate(0 65.7)\"><text class=\"lab\" text-anchor=\"middle\" transform=\"translate(11) rotate(-90)\">Time (generations)</text></g><line class=\"ax-line\" x1=\"56.8\" x2=\"56.8\" y1=\"121.4\" y2=\"10\" /><g class=\"ticks\"><g class=\"tick\" transform=\"translate(56.8 121.4)\"><line x1=\"0\" x2=\"-5\" y1=\"0\" y2=\"0\" /><g transform=\"translate(-6 0)\"><text class=\"lab\" text-anchor=\"end\">0</text></g></g><g class=\"tick\" transform=\"translate(56.8 64.8302)\"><line x1=\"0\" x2=\"-5\" y1=\"0\" y2=\"0\" /><g transform=\"translate(-6 0)\"><text class=\"lab\" text-anchor=\"end\">119</text></g></g><g class=\"tick\" transform=\"translate(56.8 26.8)\"><line x1=\"0\" x2=\"-5\" y1=\"0\" y2=\"0\" /><g transform=\"translate(-6 0)\"><text class=\"lab\" text-anchor=\"end\">199</text></g></g></g></g></g><g class=\"plotbox trees\"><g class=\"tree t0\" transform=\"translate(56.8 0)\"><g class=\"plotbox\"><g class=\"c1 i15512 node n31025 p0 root\" transform=\"translate(30.4 26.8)\"><g class=\"a31025 i0 leaf node n0 p0 sample\" transform=\"translate(0.0 94.6)\"><path class=\"edge\" d=\"M 0 0 V -94.6 H 0.0\" /><rect class=\"sym\" height=\"6\" width=\"6\" x=\"-3\" y=\"-3\" /><text class=\"lab\" transform=\"translate(0 11)\">0</text></g><circle class=\"sym\" cx=\"0\" cy=\"0\" r=\"3\" /><text class=\"lab\" transform=\"translate(0 -11)\">31025</text></g><g class=\"c1 i15571 node n31143 p0 root\" transform=\"translate(51.2 26.8)\"><g class=\"a31143 i1 leaf node n3 p0 sample\" transform=\"translate(0.0 94.6)\"><path class=\"edge\" d=\"M 0 0 V -94.6 H 0.0\" /><rect class=\"sym\" height=\"6\" width=\"6\" x=\"-3\" y=\"-3\" /><text class=\"lab\" transform=\"translate(0 11)\">3</text></g><circle class=\"sym\" cx=\"0\" cy=\"0\" r=\"3\" /><text class=\"lab\" transform=\"translate(0 -11)\">31143</text></g><g class=\"c1 i15575 node n31150 p0 root\" transform=\"translate(82.4 26.8)\"><g class=\"a31150 c2 i9136 node n18272 p0\" transform=\"translate(0.0 38.0302)\"><g class=\"a18272 i0 leaf node n1 p0 sample\" transform=\"translate(-10.4 56.5698)\"><path class=\"edge\" d=\"M 0 0 V -56.5698 H 10.4\" /><rect class=\"sym\" height=\"6\" width=\"6\" x=\"-3\" y=\"-3\" /><text class=\"lab\" transform=\"translate(0 11)\">1</text></g><g class=\"a18272 i1 leaf node n2 p0 sample\" transform=\"translate(10.4 56.5698)\"><path class=\"edge\" d=\"M 0 0 V -56.5698 H -10.4\" /><rect class=\"sym\" height=\"6\" width=\"6\" x=\"-3\" y=\"-3\" /><text class=\"lab\" transform=\"translate(0 11)\">2</text></g><path class=\"edge\" d=\"M 0 0 V -38.0302 H 0.0\" /><circle class=\"sym\" cx=\"0\" cy=\"0\" r=\"3\" /><text class=\"lab lft\" transform=\"translate(-3 -7.0)\">18272</text></g><circle class=\"sym\" cx=\"0\" cy=\"0\" r=\"3\" /><text class=\"lab\" transform=\"translate(0 -11)\">31150</text></g></g></g></g></g></svg>"
      ],
      "text/plain": [
       "'<svg baseProfile=\"full\" height=\"200\" version=\"1.1\" width=\"200\" xmlns=\"http://www.w3.org/2000/svg\" xmlns:ev=\"http://www.w3.org/2001/xml-events\" xmlns:xlink=\"http://www.w3.org/1999/xlink\"><defs><style type=\"text/css\"><![CDATA[.background path {fill: #808080; fill-opacity: 0}.background path:nth-child(odd) {fill-opacity: .1}.axes {font-size: 14px}.x-axis .tick .lab {font-weight: bold; dominant-baseline: hanging}.axes, .tree {font-size: 14px; text-anchor: middle}.axes line, .edge {stroke: black; fill: none}.axes .ax-skip {stroke-dasharray: 4}.y-axis .grid {stroke: #FAFAFA}.node > .sym {fill: black; stroke: none}.site > .sym {stroke: black}.mut text {fill: red; font-style: italic}.mut.extra text {fill: hotpink}.mut line {fill: none; stroke: none}.mut .sym {fill: none; stroke: red}.mut.extra .sym {stroke: hotpink}.node .mut .sym {stroke-width: 1.5px}.tree text, .tree-sequence text {dominant-baseline: central}.plotbox .lab.lft {text-anchor: end}.plotbox .lab.rgt {text-anchor: start}]]></style></defs><g class=\"tree-sequence\"><g class=\"background\"><path d=\"M56.8,0 l123.2,0 l0,138.2 l0,25 l0,5 l-123.2,0 l0,-5 l0,-25 l0,-138.2z\" /></g><g class=\"axes\"><g class=\"x-axis\"><g class=\"title\" transform=\"translate(118.4 200)\"><text class=\"lab\" text-anchor=\"middle\" transform=\"translate(0 -11)\">Genome position</text></g><line class=\"ax-line\" x1=\"56.8\" x2=\"180\" y1=\"163.2\" y2=\"163.2\" /><g class=\"ticks\"><g class=\"tick\" transform=\"translate(56.8 163.2)\"><line x1=\"0\" x2=\"0\" y1=\"0\" y2=\"5\" /><g transform=\"translate(0 6)\"><text class=\"lab\">0</text></g></g><g class=\"tick\" transform=\"translate(180 163.2)\"><line x1=\"0\" x2=\"0\" y1=\"0\" y2=\"5\" /><g transform=\"translate(0 6)\"><text class=\"lab\">100</text></g></g></g></g><g class=\"y-axis\"><g class=\"title\" transform=\"translate(0 65.7)\"><text class=\"lab\" text-anchor=\"middle\" transform=\"translate(11) rotate(-90)\">Time (generations)</text></g><line class=\"ax-line\" x1=\"56.8\" x2=\"56.8\" y1=\"121.4\" y2=\"10\" /><g class=\"ticks\"><g class=\"tick\" transform=\"translate(56.8 121.4)\"><line x1=\"0\" x2=\"-5\" y1=\"0\" y2=\"0\" /><g transform=\"translate(-6 0)\"><text class=\"lab\" text-anchor=\"end\">0</text></g></g><g class=\"tick\" transform=\"translate(56.8 64.8302)\"><line x1=\"0\" x2=\"-5\" y1=\"0\" y2=\"0\" /><g transform=\"translate(-6 0)\"><text class=\"lab\" text-anchor=\"end\">119</text></g></g><g class=\"tick\" transform=\"translate(56.8 26.8)\"><line x1=\"0\" x2=\"-5\" y1=\"0\" y2=\"0\" /><g transform=\"translate(-6 0)\"><text class=\"lab\" text-anchor=\"end\">199</text></g></g></g></g></g><g class=\"plotbox trees\"><g class=\"tree t0\" transform=\"translate(56.8 0)\"><g class=\"plotbox\"><g class=\"c1 i15512 node n31025 p0 root\" transform=\"translate(30.4 26.8)\"><g class=\"a31025 i0 leaf node n0 p0 sample\" transform=\"translate(0.0 94.6)\"><path class=\"edge\" d=\"M 0 0 V -94.6 H 0.0\" /><rect class=\"sym\" height=\"6\" width=\"6\" x=\"-3\" y=\"-3\" /><text class=\"lab\" transform=\"translate(0 11)\">0</text></g><circle class=\"sym\" cx=\"0\" cy=\"0\" r=\"3\" /><text class=\"lab\" transform=\"translate(0 -11)\">31025</text></g><g class=\"c1 i15571 node n31143 p0 root\" transform=\"translate(51.2 26.8)\"><g class=\"a31143 i1 leaf node n3 p0 sample\" transform=\"translate(0.0 94.6)\"><path class=\"edge\" d=\"M 0 0 V -94.6 H 0.0\" /><rect class=\"sym\" height=\"6\" width=\"6\" x=\"-3\" y=\"-3\" /><text class=\"lab\" transform=\"translate(0 11)\">3</text></g><circle class=\"sym\" cx=\"0\" cy=\"0\" r=\"3\" /><text class=\"lab\" transform=\"translate(0 -11)\">31143</text></g><g class=\"c1 i15575 node n31150 p0 root\" transform=\"translate(82.4 26.8)\"><g class=\"a31150 c2 i9136 node n18272 p0\" transform=\"translate(0.0 38.0302)\"><g class=\"a18272 i0 leaf node n1 p0 sample\" transform=\"translate(-10.4 56.5698)\"><path class=\"edge\" d=\"M 0 0 V -56.5698 H 10.4\" /><rect class=\"sym\" height=\"6\" width=\"6\" x=\"-3\" y=\"-3\" /><text class=\"lab\" transform=\"translate(0 11)\">1</text></g><g class=\"a18272 i1 leaf node n2 p0 sample\" transform=\"translate(10.4 56.5698)\"><path class=\"edge\" d=\"M 0 0 V -56.5698 H -10.4\" /><rect class=\"sym\" height=\"6\" width=\"6\" x=\"-3\" y=\"-3\" /><text class=\"lab\" transform=\"translate(0 11)\">2</text></g><path class=\"edge\" d=\"M 0 0 V -38.0302 H 0.0\" /><circle class=\"sym\" cx=\"0\" cy=\"0\" r=\"3\" /><text class=\"lab lft\" transform=\"translate(-3 -7.0)\">18272</text></g><circle class=\"sym\" cx=\"0\" cy=\"0\" r=\"3\" /><text class=\"lab\" transform=\"translate(0 -11)\">31150</text></g></g></g></g></g></svg>'"
      ]
     },
     "execution_count": 318,
     "metadata": {},
     "output_type": "execute_result"
    }
   ],
   "source": [
    "ts.draw_svg(y_axis=True)"
   ]
  },
  {
   "cell_type": "code",
   "execution_count": 20,
   "id": "fcc167e3-2fc7-4dea-90f4-4cf32450a42d",
   "metadata": {},
   "outputs": [],
   "source": [
    "ped = msprime.PedigreeBuilder(individuals_metadata_schema=tskit.MetadataSchema.permissive_json())"
   ]
  },
  {
   "cell_type": "code",
   "execution_count": 21,
   "id": "9e1364be-3a4c-4f1e-b933-1d5d591403ff",
   "metadata": {},
   "outputs": [
    {
     "data": {
      "text/plain": [
       "<msprime.pedigrees.PedigreeBuilder at 0x7f61931f1b90>"
      ]
     },
     "execution_count": 21,
     "metadata": {},
     "output_type": "execute_result"
    }
   ],
   "source": [
    "ped"
   ]
  },
  {
   "cell_type": "code",
   "execution_count": 18,
   "id": "49c54d4f-14cb-4cd7-8fe9-e7b98099baa9",
   "metadata": {},
   "outputs": [
    {
     "data": {
      "text/plain": [
       "\u001b[0;31mSignature:\u001b[0m\n",
       "\u001b[0mped\u001b[0m\u001b[0;34m.\u001b[0m\u001b[0madd_individual\u001b[0m\u001b[0;34m(\u001b[0m\u001b[0;34m\u001b[0m\n",
       "\u001b[0;34m\u001b[0m    \u001b[0;34m*\u001b[0m\u001b[0;34m,\u001b[0m\u001b[0;34m\u001b[0m\n",
       "\u001b[0;34m\u001b[0m    \u001b[0mtime\u001b[0m\u001b[0;34m,\u001b[0m\u001b[0;34m\u001b[0m\n",
       "\u001b[0;34m\u001b[0m    \u001b[0mis_sample\u001b[0m\u001b[0;34m=\u001b[0m\u001b[0;32mNone\u001b[0m\u001b[0;34m,\u001b[0m\u001b[0;34m\u001b[0m\n",
       "\u001b[0;34m\u001b[0m    \u001b[0mparents\u001b[0m\u001b[0;34m=\u001b[0m\u001b[0;32mNone\u001b[0m\u001b[0;34m,\u001b[0m\u001b[0;34m\u001b[0m\n",
       "\u001b[0;34m\u001b[0m    \u001b[0mpopulation\u001b[0m\u001b[0;34m=\u001b[0m\u001b[0;32mNone\u001b[0m\u001b[0;34m,\u001b[0m\u001b[0;34m\u001b[0m\n",
       "\u001b[0;34m\u001b[0m    \u001b[0mmetadata\u001b[0m\u001b[0;34m=\u001b[0m\u001b[0;32mNone\u001b[0m\u001b[0;34m,\u001b[0m\u001b[0;34m\u001b[0m\n",
       "\u001b[0;34m\u001b[0m\u001b[0;34m)\u001b[0m \u001b[0;34m->\u001b[0m \u001b[0;34m'int'\u001b[0m\u001b[0;34m\u001b[0m\u001b[0;34m\u001b[0m\u001b[0m\n",
       "\u001b[0;31mDocstring:\u001b[0m\n",
       "Adds an individual with the specified properties, returning its ID.\n",
       "\n",
       ":param float time: The time for this individual measured in generations ago.\n",
       ":param bool is_sample: If True, the new individual is marked as a sample;\n",
       "    if False, the individual is not marked as a sample. If None (the default)\n",
       "    the individual is marked as a sample if its ``time`` is zero.\n",
       "    Parent IDs are not checked, and may refer to individuals not yet\n",
       "    added to the tables.\n",
       ":param list(int) parents: The integer IDs of the specified individual's\n",
       "    parents. Exactly two parents must be specified. If None (the default),\n",
       "    the individual is treated as a founder by setting its parents to\n",
       "    ``[-1, -1]``.\n",
       ":param str|int population: The population to associated with this\n",
       "    individual. The value can be a string or integer, following the\n",
       "    usual\n",
       "    :ref:`population identifier<sec_demography_populations_identifiers>`\n",
       "    rules. If None (the default), a population ID of 0 will be assigned\n",
       "    if the :class:`.Demography` associated with this PedigreeBuilder has a\n",
       "    single population (the default). If the demography has more than\n",
       "    one population, then a population must be explicitly specified for\n",
       "    each individual.\n",
       ":param dict|bytes metadata: Any metadata to associate with the\n",
       "    new individual. See the :ref:`sec_pedigrees_metadata` section\n",
       "    for more information.\n",
       ":return: The ID of the newly added individual.\n",
       ":rtype: int\n",
       "\u001b[0;31mFile:\u001b[0m      ~/miniconda3/envs/msp/lib/python3.11/site-packages/msprime/pedigrees.py\n",
       "\u001b[0;31mType:\u001b[0m      method"
      ]
     },
     "metadata": {},
     "output_type": "display_data"
    }
   ],
   "source": [
    "?ped.add_individual"
   ]
  },
  {
   "cell_type": "code",
   "execution_count": null,
   "id": "1e24b46b-1f02-4e28-9f80-10eab3720567",
   "metadata": {},
   "outputs": [],
   "source": []
  }
 ],
 "metadata": {
  "kernelspec": {
   "display_name": "Python [conda env:msp]",
   "language": "python",
   "name": "conda-env-msp-py"
  },
  "language_info": {
   "codemirror_mode": {
    "name": "ipython",
    "version": 3
   },
   "file_extension": ".py",
   "mimetype": "text/x-python",
   "name": "python",
   "nbconvert_exporter": "python",
   "pygments_lexer": "ipython3",
   "version": "3.11.4"
  }
 },
 "nbformat": 4,
 "nbformat_minor": 5
}
