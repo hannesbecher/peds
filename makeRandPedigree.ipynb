{
 "cells": [
  {
   "cell_type": "markdown",
   "id": "7b02d808-a4ab-4b45-b1b7-53d45e42a9ed",
   "metadata": {},
   "source": [
    "# Playing with pedigrees"
   ]
  },
  {
   "cell_type": "markdown",
   "id": "2b395314-7fd8-4761-9e07-4776c0b29f4f",
   "metadata": {},
   "source": [
    "\n"
   ]
  },
  {
   "cell_type": "code",
   "execution_count": 203,
   "id": "e298892b-0f5e-410e-8cc3-cfc3a5d9b8be",
   "metadata": {},
   "outputs": [],
   "source": [
    "import msprime\n",
    "import tskit\n",
    "import numpy as np\n",
    "import io"
   ]
  },
  {
   "cell_type": "code",
   "execution_count": 113,
   "id": "0073a203-4a6d-4d92-9afc-cf93901d066c",
   "metadata": {},
   "outputs": [],
   "source": [
    "nGens = 2\n",
    "N = 500\n",
    "samp = 1"
   ]
  },
  {
   "cell_type": "code",
   "execution_count": 114,
   "id": "591928d3-3674-4255-b9b0-1255abd2e1e9",
   "metadata": {},
   "outputs": [
    {
     "data": {
      "text/plain": [
       "array([0, 1])"
      ]
     },
     "execution_count": 114,
     "metadata": {},
     "output_type": "execute_result"
    }
   ],
   "source": [
    "np.array(range(0,2))"
   ]
  },
  {
   "cell_type": "code",
   "execution_count": 115,
   "id": "b0dfc449-1af0-4925-9695-56348f4d8922",
   "metadata": {},
   "outputs": [],
   "source": [
    "def genIndRange(gen, N):\n",
    "    \"\"\"\n",
    "    Generate a range of possible parents depending on N and generation.\n",
    "    \"\"\"\n",
    "    return np.array(range(gen*N, (gen+1)*N))"
   ]
  },
  {
   "cell_type": "code",
   "execution_count": 121,
   "id": "7cd56ede-a58a-449e-a861-add365e84f6c",
   "metadata": {},
   "outputs": [],
   "source": [
    "def parentIndOffset(N, nSamp):\n",
    "    \"\"\"\n",
    "    Generate a range of parent id offsets (sampling with replacement\n",
    "    \"\"\"\n",
    "    # random nums\n",
    "    nums = np.random.choice(np.arange(N), nSamp, replace=True)\n",
    "    #print(nums)\n",
    "    ss = set(nums)\n",
    "    ids = np.zeros(len(nums), dtype=np.int32)\n",
    "    c = 1\n",
    "    for i in ss:\n",
    "        \n",
    "        ids[nums == i] = c\n",
    "        c +=1\n",
    "    return ids"
   ]
  },
  {
   "cell_type": "code",
   "execution_count": 142,
   "id": "be822f4c-d4b2-4bb6-a2b4-8b58d11b1725",
   "metadata": {},
   "outputs": [],
   "source": [
    "a = parentIndOffset(N=7, nSamp=5)"
   ]
  },
  {
   "cell_type": "code",
   "execution_count": 144,
   "id": "de1d7b51-aa6f-41e6-b9af-8b8a33d2394f",
   "metadata": {},
   "outputs": [
    {
     "data": {
      "text/plain": [
       "array([3, 4, 2, 1, 1], dtype=int32)"
      ]
     },
     "execution_count": 144,
     "metadata": {},
     "output_type": "execute_result"
    }
   ],
   "source": [
    "a.copy()"
   ]
  },
  {
   "cell_type": "code",
   "execution_count": 257,
   "id": "41afc30e-3a25-4480-b2a7-54a8a943fcfc",
   "metadata": {},
   "outputs": [],
   "source": [
    "def makePed(numG,N, nInds):\n",
    "    \"\"\"\n",
    "    Make a pedigree by recurrently smapling parents from past generations\n",
    "    \"\"\"\n",
    "    idCounter=0\n",
    "    currentT=0\n",
    "    ids=[]\n",
    "    t=[]\n",
    "    mums=[]\n",
    "    dads=[]\n",
    "    for g in range(numG): # the generation loop\n",
    "\n",
    "        if g > 0: # any other than 1st gen\n",
    "            #print(f\"Gen {g}\")\n",
    "            currInds = np.unique(pp)\n",
    "            pp = parentIndOffset(N, len(currInds)*2) + max(currInds)\n",
    "            \n",
    "            for i in range(len(currInds)):\n",
    "                ids.append(currInds[i])\n",
    "                t.append(currentT)\n",
    "                if g < numG - 1:\n",
    "                    mums.append(pp[i*2])\n",
    "                    dads.append(pp[i*2-1])\n",
    "                else:\n",
    "                    mums.append(\".\")\n",
    "                    dads.append(\".\")\n",
    "            \n",
    "        else: #only in 1st gen\n",
    "            #print(\"1st gen\")\n",
    "            pp = parentIndOffset(N, nInds*2) + nInds - 1 # parents of those inds\n",
    "            for i in range(nInds):\n",
    "                ids.append(i)\n",
    "                mums.append(pp[i*2])\n",
    "                dads.append(pp[i*2-1])\n",
    "                t.append(currentT)\n",
    "                \n",
    "        # each generation\n",
    "        currentT += 1\n",
    "    \n",
    "    aa = \"# id parent0 parent1 time\\n\" \n",
    "    for i,j,k,l in zip(ids, mums, dads, t):\n",
    "        aa += f\"{i} {j} {k} {l}\\n\"\n",
    "    return aa\n",
    "    \n",
    "    "
   ]
  },
  {
   "cell_type": "code",
   "execution_count": 304,
   "id": "9453f8f0-de5d-4d93-aeac-7c1d42ddac23",
   "metadata": {
    "tags": []
   },
   "outputs": [],
   "source": [
    "aa=makePed(200, 100, 2)\n",
    "#print(aa)"
   ]
  },
  {
   "cell_type": "code",
   "execution_count": 305,
   "id": "d7938dcd-ae9a-4119-bcf2-d3d5bd5dbad3",
   "metadata": {},
   "outputs": [],
   "source": [
    "tc.sort()"
   ]
  },
  {
   "cell_type": "code",
   "execution_count": 306,
   "id": "027d271d-a04f-415e-816d-833bd5e1c9cc",
   "metadata": {},
   "outputs": [],
   "source": [
    "tc = msprime.parse_pedigree(io.StringIO(aa), sequence_length=100)\n"
   ]
  },
  {
   "cell_type": "code",
   "execution_count": 334,
   "id": "5a1c7351-1027-433e-8b00-937e006488db",
   "metadata": {},
   "outputs": [],
   "source": [
    "ts = msprime.sim_ancestry(\n",
    "    initial_state=tc,\n",
    "    model=\"fixed_pedigree\"\n",
    ")"
   ]
  },
  {
   "cell_type": "code",
   "execution_count": 335,
   "id": "8b3e7c88-0ba2-4622-814d-139fe01071e6",
   "metadata": {},
   "outputs": [
    {
     "data": {
      "text/html": [
       "\n",
       "            <div>\n",
       "              <style>\n",
       "                .tskit-table thead tr th {text-align: left;padding: 0.5em 0.5em;}\n",
       "                .tskit-table tbody tr td {padding: 0.5em 0.5em;}\n",
       "                .tskit-table tbody tr td:first-of-type {text-align: left;}\n",
       "                .tskit-details-label {vertical-align: top; padding-right:5px;}\n",
       "                .tskit-table-set {display: inline-flex;flex-wrap: wrap;margin: -12px 0 0 -12px;width: calc(100% + 12px);}\n",
       "                .tskit-table-set-table {margin: 12px 0 0 12px;}\n",
       "                details {display: inline-block;}\n",
       "                summary {cursor: pointer; outline: 0; display: list-item;}\n",
       "              </style>\n",
       "              <div class=\"tskit-table-set\">\n",
       "                <div class=\"tskit-table-set-table\">\n",
       "                  <table class=\"tskit-table\">\n",
       "                    <thead>\n",
       "                      <tr>\n",
       "                        <th style=\"padding:0;line-height:21px;\">\n",
       "                          <img style=\"height: 32px;display: inline-block;padding: 3px 5px 3px 0;\" src=\"https://raw.githubusercontent.com/tskit-dev/administrative/main/tskit_logo.svg\"/>\n",
       "                          <a target=\"_blank\" href=\"https://tskit.dev/tskit/docs/latest/python-api.html#the-treesequence-class\"> Tree Sequence </a>\n",
       "                        </th>\n",
       "                      </tr>\n",
       "                    </thead>\n",
       "                    <tbody>\n",
       "                      <tr><td>Trees</td><td>1</td></tr>\n",
       "                      <tr><td>Sequence Length</td><td>100.0</td></tr>\n",
       "                      <tr><td>Time Units</td><td>generations</td></tr>\n",
       "                      <tr><td>Sample Nodes</td><td>4</td></tr>\n",
       "                      <tr><td>Total Size</td><td>1.6 MiB</td></tr>\n",
       "                      <tr>\n",
       "                        <td>Metadata</td><td style=\"text-align: left;\">No Metadata</td></tr>\n",
       "                    </tbody>\n",
       "                  </table>\n",
       "                </div>\n",
       "                <div class=\"tskit-table-set-table\">\n",
       "                  <table class=\"tskit-table\">\n",
       "                    <thead>\n",
       "                      <tr>\n",
       "                        <th style=\"line-height:21px;\">Table</th>\n",
       "                        <th>Rows</th>\n",
       "                        <th>Size</th>\n",
       "                        <th>Has Metadata</th>\n",
       "                      </tr>\n",
       "                    </thead>\n",
       "                    <tbody>\n",
       "                    \n",
       "                  <tr>\n",
       "                    <td>Edges</td>\n",
       "                      <td>6</td>\n",
       "                      <td>200 Bytes</td>\n",
       "                      <td style=\"text-align: center;\">\n",
       "                        \n",
       "                      </td>\n",
       "                    </tr>\n",
       "                \n",
       "                  <tr>\n",
       "                    <td>Individuals</td>\n",
       "                      <td>15583</td>\n",
       "                      <td>826.2 KiB</td>\n",
       "                      <td style=\"text-align: center;\">\n",
       "                        ✅\n",
       "                      </td>\n",
       "                    </tr>\n",
       "                \n",
       "                  <tr>\n",
       "                    <td>Migrations</td>\n",
       "                      <td>0</td>\n",
       "                      <td>8 Bytes</td>\n",
       "                      <td style=\"text-align: center;\">\n",
       "                        \n",
       "                      </td>\n",
       "                    </tr>\n",
       "                \n",
       "                  <tr>\n",
       "                    <td>Mutations</td>\n",
       "                      <td>0</td>\n",
       "                      <td>16 Bytes</td>\n",
       "                      <td style=\"text-align: center;\">\n",
       "                        \n",
       "                      </td>\n",
       "                    </tr>\n",
       "                \n",
       "                  <tr>\n",
       "                    <td>Nodes</td>\n",
       "                      <td>31166</td>\n",
       "                      <td>852.2 KiB</td>\n",
       "                      <td style=\"text-align: center;\">\n",
       "                        \n",
       "                      </td>\n",
       "                    </tr>\n",
       "                \n",
       "                  <tr>\n",
       "                    <td>Populations</td>\n",
       "                      <td>1</td>\n",
       "                      <td>224 Bytes</td>\n",
       "                      <td style=\"text-align: center;\">\n",
       "                        ✅\n",
       "                      </td>\n",
       "                    </tr>\n",
       "                \n",
       "                  <tr>\n",
       "                    <td>Provenances</td>\n",
       "                      <td>1</td>\n",
       "                      <td>1008 Bytes</td>\n",
       "                      <td style=\"text-align: center;\">\n",
       "                        \n",
       "                      </td>\n",
       "                    </tr>\n",
       "                \n",
       "                  <tr>\n",
       "                    <td>Sites</td>\n",
       "                      <td>0</td>\n",
       "                      <td>16 Bytes</td>\n",
       "                      <td style=\"text-align: center;\">\n",
       "                        \n",
       "                      </td>\n",
       "                    </tr>\n",
       "                \n",
       "                    </tbody>\n",
       "                  </table>\n",
       "                </div>\n",
       "              </div>\n",
       "            </div>\n",
       "            "
      ],
      "text/plain": [
       "<tskit.trees.TreeSequence at 0x7f618f52f190>"
      ]
     },
     "execution_count": 335,
     "metadata": {},
     "output_type": "execute_result"
    }
   ],
   "source": [
    "ts"
   ]
  },
  {
   "cell_type": "code",
   "execution_count": 336,
   "id": "e731cbe8-cc5e-4681-b0e6-d86910c0c15f",
   "metadata": {},
   "outputs": [
    {
     "data": {
      "image/svg+xml": [
       "<svg baseProfile=\"full\" height=\"200\" version=\"1.1\" width=\"200\" xmlns=\"http://www.w3.org/2000/svg\" xmlns:ev=\"http://www.w3.org/2001/xml-events\" xmlns:xlink=\"http://www.w3.org/1999/xlink\"><defs><style type=\"text/css\"><![CDATA[.background path {fill: #808080; fill-opacity: 0}.background path:nth-child(odd) {fill-opacity: .1}.axes {font-size: 14px}.x-axis .tick .lab {font-weight: bold; dominant-baseline: hanging}.axes, .tree {font-size: 14px; text-anchor: middle}.axes line, .edge {stroke: black; fill: none}.axes .ax-skip {stroke-dasharray: 4}.y-axis .grid {stroke: #FAFAFA}.node > .sym {fill: black; stroke: none}.site > .sym {stroke: black}.mut text {fill: red; font-style: italic}.mut.extra text {fill: hotpink}.mut line {fill: none; stroke: none}.mut .sym {fill: none; stroke: red}.mut.extra .sym {stroke: hotpink}.node .mut .sym {stroke-width: 1.5px}.tree text, .tree-sequence text {dominant-baseline: central}.plotbox .lab.lft {text-anchor: end}.plotbox .lab.rgt {text-anchor: start}]]></style></defs><g class=\"tree-sequence\"><g class=\"background\"><path d=\"M56.8,0 l123.2,0 l0,138.2 l0,25 l0,5 l-123.2,0 l0,-5 l0,-25 l0,-138.2z\" /></g><g class=\"axes\"><g class=\"x-axis\"><g class=\"title\" transform=\"translate(118.4 200)\"><text class=\"lab\" text-anchor=\"middle\" transform=\"translate(0 -11)\">Genome position</text></g><line class=\"ax-line\" x1=\"56.8\" x2=\"180\" y1=\"163.2\" y2=\"163.2\" /><g class=\"ticks\"><g class=\"tick\" transform=\"translate(56.8 163.2)\"><line x1=\"0\" x2=\"0\" y1=\"0\" y2=\"5\" /><g transform=\"translate(0 6)\"><text class=\"lab\">0</text></g></g><g class=\"tick\" transform=\"translate(180 163.2)\"><line x1=\"0\" x2=\"0\" y1=\"0\" y2=\"5\" /><g transform=\"translate(0 6)\"><text class=\"lab\">100</text></g></g></g></g><g class=\"y-axis\"><g class=\"title\" transform=\"translate(0 65.7)\"><text class=\"lab\" text-anchor=\"middle\" transform=\"translate(11) rotate(-90)\">Time (generations)</text></g><line class=\"ax-line\" x1=\"56.8\" x2=\"56.8\" y1=\"121.4\" y2=\"10\" /><g class=\"ticks\"><g class=\"tick\" transform=\"translate(56.8 121.4)\"><line x1=\"0\" x2=\"-5\" y1=\"0\" y2=\"0\" /><g transform=\"translate(-6 0)\"><text class=\"lab\" text-anchor=\"end\">0</text></g></g><g class=\"tick\" transform=\"translate(56.8 107.886)\"><line x1=\"0\" x2=\"-5\" y1=\"0\" y2=\"0\" /><g transform=\"translate(-6 0)\"><text class=\"lab\" text-anchor=\"end\">24</text></g></g><g class=\"tick\" transform=\"translate(56.8 66.7798)\"><line x1=\"0\" x2=\"-5\" y1=\"0\" y2=\"0\" /><g transform=\"translate(-6 0)\"><text class=\"lab\" text-anchor=\"end\">97</text></g></g><g class=\"tick\" transform=\"translate(56.8 26.8)\"><line x1=\"0\" x2=\"-5\" y1=\"0\" y2=\"0\" /><g transform=\"translate(-6 0)\"><text class=\"lab\" text-anchor=\"end\">168</text></g></g></g></g></g><g class=\"plotbox trees\"><g class=\"tree t0\" transform=\"translate(56.8 0)\"><g class=\"plotbox\"><g class=\"c2 i13099 node n26198 p0 root\" transform=\"translate(74.6 26.8)\"><g class=\"a26198 i1 leaf node n2 p0 sample\" transform=\"translate(18.2 94.6)\"><path class=\"edge\" d=\"M 0 0 V -94.6 H -18.2\" /><rect class=\"sym\" height=\"6\" width=\"6\" x=\"-3\" y=\"-3\" /><text class=\"lab\" transform=\"translate(0 11)\">2</text></g><g class=\"a26198 c2 i7383 node n14767 p0\" transform=\"translate(-18.2 39.9798)\"><g class=\"a14767 i0 leaf node n1 p0 sample\" transform=\"translate(15.6 54.6202)\"><path class=\"edge\" d=\"M 0 0 V -54.6202 H -15.6\" /><rect class=\"sym\" height=\"6\" width=\"6\" x=\"-3\" y=\"-3\" /><text class=\"lab\" transform=\"translate(0 11)\">1</text></g><g class=\"a14767 c2 i1513 node n3026 p0\" transform=\"translate(-15.6 41.106)\"><g class=\"a3026 i0 leaf node n0 p0 sample\" transform=\"translate(-10.4 13.5143)\"><path class=\"edge\" d=\"M 0 0 V -13.5143 H 10.4\" /><rect class=\"sym\" height=\"6\" width=\"6\" x=\"-3\" y=\"-3\" /><text class=\"lab\" transform=\"translate(0 11)\">0</text></g><g class=\"a3026 i1 leaf node n3 p0 sample\" transform=\"translate(10.4 13.5143)\"><path class=\"edge\" d=\"M 0 0 V -13.5143 H -10.4\" /><rect class=\"sym\" height=\"6\" width=\"6\" x=\"-3\" y=\"-3\" /><text class=\"lab\" transform=\"translate(0 11)\">3</text></g><path class=\"edge\" d=\"M 0 0 V -41.106 H 15.6\" /><circle class=\"sym\" cx=\"0\" cy=\"0\" r=\"3\" /><text class=\"lab lft\" transform=\"translate(-3 -7.0)\">3026</text></g><path class=\"edge\" d=\"M 0 0 V -39.9798 H 18.2\" /><circle class=\"sym\" cx=\"0\" cy=\"0\" r=\"3\" /><text class=\"lab lft\" transform=\"translate(-3 -7.0)\">14767</text></g><circle class=\"sym\" cx=\"0\" cy=\"0\" r=\"3\" /><text class=\"lab\" transform=\"translate(0 -11)\">26198</text></g></g></g></g></g></svg>"
      ],
      "text/plain": [
       "'<svg baseProfile=\"full\" height=\"200\" version=\"1.1\" width=\"200\" xmlns=\"http://www.w3.org/2000/svg\" xmlns:ev=\"http://www.w3.org/2001/xml-events\" xmlns:xlink=\"http://www.w3.org/1999/xlink\"><defs><style type=\"text/css\"><![CDATA[.background path {fill: #808080; fill-opacity: 0}.background path:nth-child(odd) {fill-opacity: .1}.axes {font-size: 14px}.x-axis .tick .lab {font-weight: bold; dominant-baseline: hanging}.axes, .tree {font-size: 14px; text-anchor: middle}.axes line, .edge {stroke: black; fill: none}.axes .ax-skip {stroke-dasharray: 4}.y-axis .grid {stroke: #FAFAFA}.node > .sym {fill: black; stroke: none}.site > .sym {stroke: black}.mut text {fill: red; font-style: italic}.mut.extra text {fill: hotpink}.mut line {fill: none; stroke: none}.mut .sym {fill: none; stroke: red}.mut.extra .sym {stroke: hotpink}.node .mut .sym {stroke-width: 1.5px}.tree text, .tree-sequence text {dominant-baseline: central}.plotbox .lab.lft {text-anchor: end}.plotbox .lab.rgt {text-anchor: start}]]></style></defs><g class=\"tree-sequence\"><g class=\"background\"><path d=\"M56.8,0 l123.2,0 l0,138.2 l0,25 l0,5 l-123.2,0 l0,-5 l0,-25 l0,-138.2z\" /></g><g class=\"axes\"><g class=\"x-axis\"><g class=\"title\" transform=\"translate(118.4 200)\"><text class=\"lab\" text-anchor=\"middle\" transform=\"translate(0 -11)\">Genome position</text></g><line class=\"ax-line\" x1=\"56.8\" x2=\"180\" y1=\"163.2\" y2=\"163.2\" /><g class=\"ticks\"><g class=\"tick\" transform=\"translate(56.8 163.2)\"><line x1=\"0\" x2=\"0\" y1=\"0\" y2=\"5\" /><g transform=\"translate(0 6)\"><text class=\"lab\">0</text></g></g><g class=\"tick\" transform=\"translate(180 163.2)\"><line x1=\"0\" x2=\"0\" y1=\"0\" y2=\"5\" /><g transform=\"translate(0 6)\"><text class=\"lab\">100</text></g></g></g></g><g class=\"y-axis\"><g class=\"title\" transform=\"translate(0 65.7)\"><text class=\"lab\" text-anchor=\"middle\" transform=\"translate(11) rotate(-90)\">Time (generations)</text></g><line class=\"ax-line\" x1=\"56.8\" x2=\"56.8\" y1=\"121.4\" y2=\"10\" /><g class=\"ticks\"><g class=\"tick\" transform=\"translate(56.8 121.4)\"><line x1=\"0\" x2=\"-5\" y1=\"0\" y2=\"0\" /><g transform=\"translate(-6 0)\"><text class=\"lab\" text-anchor=\"end\">0</text></g></g><g class=\"tick\" transform=\"translate(56.8 107.886)\"><line x1=\"0\" x2=\"-5\" y1=\"0\" y2=\"0\" /><g transform=\"translate(-6 0)\"><text class=\"lab\" text-anchor=\"end\">24</text></g></g><g class=\"tick\" transform=\"translate(56.8 66.7798)\"><line x1=\"0\" x2=\"-5\" y1=\"0\" y2=\"0\" /><g transform=\"translate(-6 0)\"><text class=\"lab\" text-anchor=\"end\">97</text></g></g><g class=\"tick\" transform=\"translate(56.8 26.8)\"><line x1=\"0\" x2=\"-5\" y1=\"0\" y2=\"0\" /><g transform=\"translate(-6 0)\"><text class=\"lab\" text-anchor=\"end\">168</text></g></g></g></g></g><g class=\"plotbox trees\"><g class=\"tree t0\" transform=\"translate(56.8 0)\"><g class=\"plotbox\"><g class=\"c2 i13099 node n26198 p0 root\" transform=\"translate(74.6 26.8)\"><g class=\"a26198 i1 leaf node n2 p0 sample\" transform=\"translate(18.2 94.6)\"><path class=\"edge\" d=\"M 0 0 V -94.6 H -18.2\" /><rect class=\"sym\" height=\"6\" width=\"6\" x=\"-3\" y=\"-3\" /><text class=\"lab\" transform=\"translate(0 11)\">2</text></g><g class=\"a26198 c2 i7383 node n14767 p0\" transform=\"translate(-18.2 39.9798)\"><g class=\"a14767 i0 leaf node n1 p0 sample\" transform=\"translate(15.6 54.6202)\"><path class=\"edge\" d=\"M 0 0 V -54.6202 H -15.6\" /><rect class=\"sym\" height=\"6\" width=\"6\" x=\"-3\" y=\"-3\" /><text class=\"lab\" transform=\"translate(0 11)\">1</text></g><g class=\"a14767 c2 i1513 node n3026 p0\" transform=\"translate(-15.6 41.106)\"><g class=\"a3026 i0 leaf node n0 p0 sample\" transform=\"translate(-10.4 13.5143)\"><path class=\"edge\" d=\"M 0 0 V -13.5143 H 10.4\" /><rect class=\"sym\" height=\"6\" width=\"6\" x=\"-3\" y=\"-3\" /><text class=\"lab\" transform=\"translate(0 11)\">0</text></g><g class=\"a3026 i1 leaf node n3 p0 sample\" transform=\"translate(10.4 13.5143)\"><path class=\"edge\" d=\"M 0 0 V -13.5143 H -10.4\" /><rect class=\"sym\" height=\"6\" width=\"6\" x=\"-3\" y=\"-3\" /><text class=\"lab\" transform=\"translate(0 11)\">3</text></g><path class=\"edge\" d=\"M 0 0 V -41.106 H 15.6\" /><circle class=\"sym\" cx=\"0\" cy=\"0\" r=\"3\" /><text class=\"lab lft\" transform=\"translate(-3 -7.0)\">3026</text></g><path class=\"edge\" d=\"M 0 0 V -39.9798 H 18.2\" /><circle class=\"sym\" cx=\"0\" cy=\"0\" r=\"3\" /><text class=\"lab lft\" transform=\"translate(-3 -7.0)\">14767</text></g><circle class=\"sym\" cx=\"0\" cy=\"0\" r=\"3\" /><text class=\"lab\" transform=\"translate(0 -11)\">26198</text></g></g></g></g></g></svg>'"
      ]
     },
     "execution_count": 336,
     "metadata": {},
     "output_type": "execute_result"
    }
   ],
   "source": [
    "ts.draw_svg(y_axis=True)"
   ]
  },
  {
   "cell_type": "code",
   "execution_count": 337,
   "id": "1e24b46b-1f02-4e28-9f80-10eab3720567",
   "metadata": {},
   "outputs": [],
   "source": [
    "a=ts.coalescence_time_distribution()"
   ]
  },
  {
   "cell_type": "code",
   "execution_count": 343,
   "id": "b44895e2-471e-4718-925e-5df32e44c120",
   "metadata": {},
   "outputs": [
    {
     "ename": "AssertionError",
     "evalue": "",
     "output_type": "error",
     "traceback": [
      "\u001b[0;31m---------------------------------------------------------------------------\u001b[0m",
      "\u001b[0;31mAssertionError\u001b[0m                            Traceback (most recent call last)",
      "Cell \u001b[0;32mIn[343], line 1\u001b[0m\n\u001b[0;32m----> 1\u001b[0m \u001b[43ma\u001b[49m\u001b[38;5;241;43m.\u001b[39;49m\u001b[43mcoalescence_rate_in_intervals\u001b[49m\u001b[43m(\u001b[49m\u001b[43m[\u001b[49m\u001b[38;5;241;43m0.0\u001b[39;49m\u001b[43m,\u001b[49m\u001b[43m \u001b[49m\u001b[38;5;241;43m100.0\u001b[39;49m\u001b[43m,\u001b[49m\u001b[38;5;241;43m168.0\u001b[39;49m\u001b[43m]\u001b[49m\u001b[43m)\u001b[49m\n",
      "File \u001b[0;32m~/miniconda3/envs/msp/lib/python3.11/site-packages/tskit/stats.py:846\u001b[0m, in \u001b[0;36mCoalescenceTimeDistribution.coalescence_rate_in_intervals\u001b[0;34m(self, time_breaks)\u001b[0m\n\u001b[1;32m    824\u001b[0m \u001b[38;5;28;01mdef\u001b[39;00m \u001b[38;5;21mcoalescence_rate_in_intervals\u001b[39m(\u001b[38;5;28mself\u001b[39m, time_breaks):\n\u001b[1;32m    825\u001b[0m \u001b[38;5;250m    \u001b[39m\u001b[38;5;124;03m\"\"\"\u001b[39;00m\n\u001b[1;32m    826\u001b[0m \u001b[38;5;124;03m    Returns the interval-censored Kaplan-Meier estimate of the hazard rate for\u001b[39;00m\n\u001b[1;32m    827\u001b[0m \u001b[38;5;124;03m    coalesence events within the time intervals defined by ``time_breaks``. The\u001b[39;00m\n\u001b[0;32m   (...)\u001b[0m\n\u001b[1;32m    843\u001b[0m \u001b[38;5;124;03m    self.num_windows)``.\u001b[39;00m\n\u001b[1;32m    844\u001b[0m \u001b[38;5;124;03m    \"\"\"\u001b[39;00m\n\u001b[0;32m--> 846\u001b[0m     \u001b[38;5;28;01massert\u001b[39;00m \u001b[38;5;28misinstance\u001b[39m(time_breaks, np\u001b[38;5;241m.\u001b[39mndarray)\n\u001b[1;32m    848\u001b[0m     time_breaks \u001b[38;5;241m=\u001b[39m np\u001b[38;5;241m.\u001b[39msort(np\u001b[38;5;241m.\u001b[39munique(time_breaks))\n\u001b[1;32m    849\u001b[0m     phi \u001b[38;5;241m=\u001b[39m \u001b[38;5;28mself\u001b[39m\u001b[38;5;241m.\u001b[39mcoalescence_probability_in_intervals(time_breaks)\n",
      "\u001b[0;31mAssertionError\u001b[0m: "
     ]
    }
   ],
   "source": [
    "a.coalescence_rate_in_intervals([0.0, 100.0,168.0])"
   ]
  },
  {
   "cell_type": "code",
   "execution_count": 342,
   "id": "3db1db6b-8178-4c34-8513-411701ff4a46",
   "metadata": {},
   "outputs": [
    {
     "data": {
      "text/plain": [
       "168.0"
      ]
     },
     "execution_count": 342,
     "metadata": {},
     "output_type": "execute_result"
    }
   ],
   "source": [
    "ts.first().tmrca(0,2)"
   ]
  },
  {
   "cell_type": "code",
   "execution_count": null,
   "id": "29afafaa-fa9c-48f6-a24a-947568552587",
   "metadata": {},
   "outputs": [],
   "source": []
  }
 ],
 "metadata": {
  "kernelspec": {
   "display_name": "Python [conda env:msp]",
   "language": "python",
   "name": "conda-env-msp-py"
  },
  "language_info": {
   "codemirror_mode": {
    "name": "ipython",
    "version": 3
   },
   "file_extension": ".py",
   "mimetype": "text/x-python",
   "name": "python",
   "nbconvert_exporter": "python",
   "pygments_lexer": "ipython3",
   "version": "3.11.4"
  }
 },
 "nbformat": 4,
 "nbformat_minor": 5
}
